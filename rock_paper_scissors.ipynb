{
 "cells": [
  {
   "cell_type": "code",
   "execution_count": 3,
   "metadata": {},
   "outputs": [],
   "source": [
    "import numpy as np\n",
    "import random\n"
   ]
  },
  {
   "cell_type": "code",
   "execution_count": null,
   "metadata": {},
   "outputs": [],
   "source": [
    "def game():\n",
    "\n",
    "    count_comp = 0\n",
    "    count_player = 0\n",
    "    \n",
    "    finished = False\n",
    "    \n",
    "    while finished == False:\n",
    "        player_move = input('Choose Rock, Paper or Scissors : ')\n",
    "        \n",
    "        \n",
    "\n",
    "        moves = ['Rock', 'Paper', 'Scissors']\n",
    "        comp_move = random.choice(moves)\n",
    "\n",
    "        string = 'The computer chose ' + str(comp_move) + '. '\n",
    "        string1 = 'You win!'\n",
    "\n",
    "        if player_move == comp_move:\n",
    "            print(string + 'It\\'s a draw')\n",
    "        elif player_move == 'Rock' and comp_move == 'Scissors':\n",
    "            count_player += 1\n",
    "            print(string + string1)\n",
    "        elif player_move == 'Scissors' and comp_move == 'Paper':\n",
    "            count_player += 1\n",
    "            print(string + string1)\n",
    "        elif player_move == 'Paper' and comp_move == 'Rock':\n",
    "            count_player += 1\n",
    "            print(string + string1)\n",
    "        else:\n",
    "            count_comp += 1\n",
    "            print(string + 'You loose. You suck.')\n",
    "        print('Computer = ' + str(count_comp) + ' Player = ' + str(count_player))\n",
    "        continu = input('Do you want to play again? Y/N ')\n",
    "        if continu == 'N' or 'n' or 'No' or 'no':\n",
    "            finished = True\n",
    "        \n",
    "\n",
    "        \n",
    "game()\n"
   ]
  },
  {
   "cell_type": "code",
   "execution_count": null,
   "metadata": {},
   "outputs": [],
   "source": []
  }
 ],
 "metadata": {
  "kernelspec": {
   "display_name": "Python 3",
   "language": "python",
   "name": "python3"
  },
  "language_info": {
   "codemirror_mode": {
    "name": "ipython",
    "version": 3
   },
   "file_extension": ".py",
   "mimetype": "text/x-python",
   "name": "python",
   "nbconvert_exporter": "python",
   "pygments_lexer": "ipython3",
   "version": "3.7.3"
  }
 },
 "nbformat": 4,
 "nbformat_minor": 2
}
